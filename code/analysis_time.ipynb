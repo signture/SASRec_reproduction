{
 "cells": [
  {
   "cell_type": "code",
   "execution_count": null,
   "id": "b01b7fff",
   "metadata": {},
   "outputs": [],
   "source": [
    "import torch\n",
    "from model.SASRec import SASRec"
   ]
  },
  {
   "cell_type": "code",
   "execution_count": null,
   "id": "05d72556",
   "metadata": {},
   "outputs": [],
   "source": [
    "def load_model(path:str):\n",
    "    device = torch.device('cuda' if torch.cuda.is_available() else 'cpu')\n",
    "    model = SASRec(item_num=3416, hidden_dim=50, num_heads=1, num_blocks=2, device=device)\n",
    "    model.load_state_dict(torch.load(path), strict=False)\n",
    "    return model"
   ]
  },
  {
   "cell_type": "code",
   "execution_count": null,
   "id": "62272e0c",
   "metadata": {},
   "outputs": [],
   "source": [
    "SASRec_model = load_model('../result/2025-05-07-12-50-19/checkpoint/SASRec_best_ndcg_0.6208_ht_0.8505_epoch_200.pth')\n",
    "SASRec_time_model = load_model('../result/2025-05-07-18-14-16/checkpoint/SASRec_best_ndcg_0.6191_ht_0.8435_epoch_190.pth')"
   ]
  }
 ],
 "metadata": {
  "language_info": {
   "name": "python"
  }
 },
 "nbformat": 4,
 "nbformat_minor": 5
}
