{
 "cells": [
  {
   "cell_type": "code",
   "execution_count": 46,
   "id": "ae08906a",
   "metadata": {},
   "outputs": [],
   "source": [
    "import torch\n",
    "from model.SASRec import SASRec\n",
    "from utils.utils import data_split, set_seed, load_genre_data\n",
    "import numpy as np\n",
    "import matplotlib.pyplot as plt"
   ]
  },
  {
   "cell_type": "code",
   "execution_count": 2,
   "id": "48ba5b65",
   "metadata": {},
   "outputs": [],
   "source": [
    "def load_model(path:str):\n",
    "    device = torch.device('cuda' if torch.cuda.is_available() else 'cpu')\n",
    "    model = SASRec(item_num=3416, hidden_dim=50, num_heads=1, num_blocks=2, device=device)\n",
    "    model.load_state_dict(torch.load(path), strict=False)\n",
    "    return model"
   ]
  },
  {
   "cell_type": "code",
   "execution_count": 3,
   "id": "5bafa79e",
   "metadata": {},
   "outputs": [],
   "source": [
    "SASRec_model = load_model('../result/2025-05-07-12-50-19/checkpoint/SASRec_best_ndcg_0.6208_ht_0.8505_epoch_200.pth')\n",
    "SASRec_tag_model = load_model('../result/2025-05-07-12-50-07/checkpoint/SASRec_best_ndcg_0.5224_ht_0.7553_epoch_340.pth')"
   ]
  },
  {
   "cell_type": "code",
   "execution_count": 5,
   "id": "1400c5f3",
   "metadata": {},
   "outputs": [],
   "source": [
    "data_path = '../data/ml-1m/ratings_process.txt'\n",
    "genre_path = '../data/ml-1m/movies_process.txt'\n",
    "[user_train, user_valid, user_test, user_num, item_num] = data_split(data_path, timestamp=False)\n",
    "genre_dict = load_genre_data(genre_path)"
   ]
  },
  {
   "cell_type": "code",
   "execution_count": 12,
   "id": "df591b90",
   "metadata": {},
   "outputs": [],
   "source": [
    "tag_to_id = {}\n",
    "\n",
    "# 遍历原字典\n",
    "for movie_id, multi_hot in genre_dict.items():\n",
    "    for tag_index, value in enumerate(multi_hot):\n",
    "        if value == 1:\n",
    "            if tag_index not in tag_to_id:\n",
    "                tag_to_id[tag_index] = []\n",
    "            tag_to_id[tag_index].append(movie_id)"
   ]
  },
  {
   "cell_type": "code",
   "execution_count": 13,
   "id": "544d29c8",
   "metadata": {},
   "outputs": [],
   "source": [
    "tag_index_to_name = {\n",
    "    1: \"Animation\",\n",
    "    2: \"Children's\",\n",
    "    3: \"Comedy\",\n",
    "    4: \"Adventure\",\n",
    "    5: \"Fantasy\",\n",
    "    6: \"Romance\",\n",
    "    7: \"Drama\",\n",
    "    8: \"Action\",\n",
    "    9: \"Crime\",\n",
    "    10: \"Thriller\",\n",
    "    11: \"Horror\",\n",
    "    12: \"Sci-Fi\",\n",
    "    13: \"Documentary\",\n",
    "    14: \"War\",\n",
    "    15: \"Musical\",\n",
    "    16: \"Mystery\",\n",
    "    17: \"Film-Noir\",\n",
    "    18: \"Western\"\n",
    "}\n",
    "\n",
    "# 将 tag_to_id 中的索引替换为对应的 tag 名称\n",
    "tag_name_to_id = {tag_index_to_name[tag_index + 1]: movie_ids for tag_index, movie_ids in tag_to_id.items()}"
   ]
  },
  {
   "cell_type": "code",
   "execution_count": 16,
   "id": "a746834e",
   "metadata": {},
   "outputs": [
    {
     "data": {
      "image/png": "[encoded data removed]",
      "text/plain": [
       "<Figure size 864x432 with 1 Axes>"
      ]
     },
     "metadata": {
      "needs_background": "light"
     },
     "output_type": "display_data"
    }
   ],
   "source": [
    "# 第一步，对数据进行一个简单统计\n",
    "# 统计每个标签对应的电影数量\n",
    "tag_counts = {tag: len(movie_ids) for tag, movie_ids in tag_name_to_id.items()}\n",
    "\n",
    "# 提取标签名称和对应的电影数量\n",
    "tags = list(tag_counts.keys())\n",
    "counts = list(tag_counts.values())\n",
    "\n",
    "# 设置图片清晰度\n",
    "plt.rcParams['figure.dpi'] = 300\n",
    "\n",
    "# 绘制直方图\n",
    "plt.figure(figsize=(12, 6))\n",
    "bars = plt.bar(tags, counts)\n",
    "\n",
    "# 添加数据标签\n",
    "for bar in bars:\n",
    "    height = bar.get_height()\n",
    "    plt.annotate(f'{height}',\n",
    "                 xy=(bar.get_x() + bar.get_width() / 2, height),\n",
    "                 xytext=(0, 3),  # 3 points vertical offset\n",
    "                 textcoords=\"offset points\",\n",
    "                 ha='center', va='bottom')\n",
    "\n",
    "# 设置图表标题和坐标轴标签\n",
    "plt.title('Number of Movies per Tag')\n",
    "plt.xlabel('Tags')\n",
    "plt.ylabel('Number of Movies')\n",
    "\n",
    "# 旋转 x 轴标签以避免重叠\n",
    "plt.xticks(rotation=90)\n",
    "\n",
    "# 显示图表\n",
    "plt.tight_layout()\n",
    "plt.show()"
   ]
  },
  {
   "cell_type": "markdown",
   "id": "c2b3112d",
   "metadata": {},
   "source": [
    "上图表现的是每个tag的对应电影数量，可以看出这个分布是很不均匀的，而且下面的相似性分析里面也存在随机对均值达到0.255的情况，说明有可能类似Drama类型的高频出现导致的原本不应该相关的电影也具备了相似性，引入了噪音。GPT给出了一个解决方案是使用IDF权重，削弱高频tag的影响，强化稀有tag的影响"
   ]
  },
  {
   "cell_type": "code",
   "execution_count": 17,
   "id": "87c2b864",
   "metadata": {},
   "outputs": [],
   "source": [
    "# 接下来先抽样一些有共同tag的电影\n",
    "# 生成所有共享至少一个tag的电影对\n",
    "import itertools\n",
    "import random\n",
    "same_tag_pairs = []\n",
    "all_items = list(genre_dict.keys())\n",
    "\n",
    "for item1, item2 in itertools.combinations(all_items, 2):\n",
    "    # 检查是否有共同tag（多热编码的按位与）\n",
    "    common_tags = (genre_dict[item1] * genre_dict[item2]).sum()\n",
    "    if common_tags > 0:\n",
    "        same_tag_pairs.append((item1, item2))\n",
    "\n",
    "# 如果对太多，可以随机采样N对\n",
    "same_tag_pairs = random.sample(same_tag_pairs, k=1000)"
   ]
  },
  {
   "cell_type": "code",
   "execution_count": 43,
   "id": "621c4802",
   "metadata": {},
   "outputs": [],
   "source": [
    "# 生成无共同tag的随机对\n",
    "random_pairs = []\n",
    "while len(random_pairs) < 1000:\n",
    "    item1, item2 = random.sample(all_items, 2)\n",
    "    common_tags = (genre_dict[item1] * genre_dict[item2]).sum()\n",
    "    if common_tags == 0:\n",
    "        random_pairs.append((item1, item2))"
   ]
  },
  {
   "cell_type": "code",
   "execution_count": 58,
   "id": "a5dc3a91",
   "metadata": {},
   "outputs": [],
   "source": [
    "def get_item_embedding(model, item_id, genre_vector=None, genre_only=False):\n",
    "    id_embedding = model.item_emb.weight[item_id]\n",
    "    if genre_vector is not None:\n",
    "        tag_embedding = model.genre_emb(torch.tensor(genre_vector))\n",
    "        embedding = model.emb_gate(id_embedding, tag_embedding)\n",
    "    else:\n",
    "        embedding = id_embedding\n",
    "    if genre_only:\n",
    "        return tag_embedding.detach()\n",
    "    return embedding.detach()"
   ]
  },
  {
   "cell_type": "code",
   "execution_count": 51,
   "id": "9f5fac89",
   "metadata": {},
   "outputs": [],
   "source": [
    "# 接下来计算每对电影的嵌入的相似度\n",
    "def get_similarity(model_old, model_new, item1, item2, genre_dict):\n",
    "    model_old.eval()\n",
    "    model_new.eval()\n",
    "    item1_embedding_new = get_item_embedding(model_new, item1, genre_dict[item1])\n",
    "    item2_embedding_new = get_item_embedding(model_new, item2, genre_dict[item2])\n",
    "    item1_embedding_old = get_item_embedding(model_old, item1, None)\n",
    "    item2_embedding_old = get_item_embedding(model_old, item2, None)\n",
    "    similarity_new = torch.cosine_similarity(item1_embedding_new.unsqueeze(0), item2_embedding_new.unsqueeze(0))\n",
    "    similarity_old = torch.cosine_similarity(item1_embedding_old.unsqueeze(0), item2_embedding_old.unsqueeze(0))\n",
    "    return similarity_new, similarity_old"
   ]
  },
  {
   "cell_type": "code",
   "execution_count": 52,
   "id": "41df0c99",
   "metadata": {},
   "outputs": [],
   "source": [
    "same_sim = [get_similarity(SASRec_model, SASRec_tag_model, pair[0], pair[1], genre_dict) for pair in same_tag_pairs]\n",
    "random_sim = [get_similarity(SASRec_model, SASRec_tag_model, pair[0], pair[1], genre_dict) for pair in random_pairs]"
   ]
  },
  {
   "cell_type": "code",
   "execution_count": 54,
   "id": "9ca20f37",
   "metadata": {},
   "outputs": [
    {
     "name": "stdout",
     "output_type": "stream",
     "text": [
      "改进后相同tag的item相似度均值:0.23839165318757297, 随机item的相似度均值:0.12174540444696322\n",
      "改进前相同tag的item相似度均值:0.23608445373456924, 随机item的相似度均值:0.1212359679704532\n"
     ]
    }
   ],
   "source": [
    "# 首先看一下均值\n",
    "same_sim_new = [sim[0].item() for sim in same_sim]\n",
    "random_sim_new = [sim[0].item() for sim in random_sim]\n",
    "same_sim_old = [sim[1].item() for sim in same_sim]\n",
    "random_sim_old = [sim[1].item() for sim in random_sim]\n",
    "print(\"改进后相同tag的item相似度均值:{}, 随机item的相似度均值:{}\".format(np.mean(same_sim_new), np.mean(random_sim_new)))\n",
    "print(\"改进前相同tag的item相似度均值:{}, 随机item的相似度均值:{}\".format(np.mean(same_sim_old), np.mean(random_sim_old)))\n"
   ]
  },
  {
   "cell_type": "markdown",
   "id": "10c336f1",
   "metadata": {},
   "source": [
    "从这里可以看出来实际上的改良并没有达到预期中的效果"
   ]
  },
  {
   "cell_type": "code",
   "execution_count": 60,
   "id": "97e5d5e8",
   "metadata": {},
   "outputs": [],
   "source": [
    "# 接下来看一下如果改进后的模型没有tag信息和有tag信息和只用tag信息之间的关系\n",
    "def get_similarity_2(model, item1, item2, genre_dict):\n",
    "    item1_embedding_idonly = get_item_embedding(model, item1, None)\n",
    "    item2_embedding_idonly = get_item_embedding(model, item2, None)\n",
    "    item1_embedding_genre = get_item_embedding(model, item1, genre_dict[item1], True)\n",
    "    item2_embedding_genre = get_item_embedding(model, item2, genre_dict[item2], True)\n",
    "    sim_idonly = torch.cosine_similarity(item1_embedding_idonly.unsqueeze(0), item2_embedding_idonly.unsqueeze(0))\n",
    "    sim_genre = torch.cosine_similarity(item1_embedding_genre.unsqueeze(0), item2_embedding_genre.unsqueeze(0))\n",
    "    return sim_idonly, sim_genre"
   ]
  },
  {
   "cell_type": "code",
   "execution_count": 61,
   "id": "bada6c75",
   "metadata": {},
   "outputs": [
    {
     "name": "stdout",
     "output_type": "stream",
     "text": [
      "仅id作用下相似tag的item的相似度均值:0.05814437197661027, 随机item的相似度均值:0.04315973508870229\n",
      "仅tag作用下相似tag的item的相似度均值:0.7633041713833809, 随机item的相似度均值:0.2551860841345042\n"
     ]
    }
   ],
   "source": [
    "same_sim2 = [get_similarity_2(SASRec_tag_model, pair[0], pair[1], genre_dict) for pair in same_tag_pairs]\n",
    "random_sim2 = [get_similarity_2(SASRec_tag_model, pair[0], pair[1], genre_dict) for pair in random_pairs]\n",
    "same_sim2_idonly = [sim[0].item() for sim in same_sim2]\n",
    "random_sim2_idonly = [sim[0].item() for sim in random_sim2]\n",
    "same_sim2_tagonly = [sim[1].item() for sim in same_sim2]\n",
    "random_sim2_tagonly = [sim[1].item() for sim in random_sim2]\n",
    "print(\"仅id作用下相似tag的item的相似度均值:{}, 随机item的相似度均值:{}\".format(np.mean(same_sim2_idonly), np.mean(random_sim2_idonly)))\n",
    "print(\"仅tag作用下相似tag的item的相似度均值:{}, 随机item的相似度均值:{}\".format(np.mean(same_sim2_tagonly), np.mean(random_sim2_tagonly)))"
   ]
  },
  {
   "cell_type": "markdown",
   "id": "36e6abef",
   "metadata": {},
   "source": [
    "这里发现几点：1、新加入的tag实际上是可以学习到一些隐性的相似性关系的，但是由于id_emb的权重太大导致的最后没有很好利用，也就是这个地方信息的融合方法不是很好。2、原先的没有改进的模型实际上相对这里的只用tag_emb而言还是学习到了一些相似性信息的。"
   ]
  },
  {
   "cell_type": "code",
   "execution_count": 62,
   "id": "ef11e9d1",
   "metadata": {},
   "outputs": [],
   "source": [
    "def get_embed_norm(model, item1, genre_dict):\n",
    "    item1_embedding_idonly = get_item_embedding(model, item1, None)\n",
    "    item1_embedding_genre = get_item_embedding(model, item1, genre_dict[item1], True)\n",
    "    norm_idonly = torch.norm(item1_embedding_idonly)\n",
    "    norm_genre = torch.norm(item1_embedding_genre)\n",
    "    return norm_idonly, norm_genre"
   ]
  },
  {
   "cell_type": "code",
   "execution_count": null,
   "id": "3f0e2b1f",
   "metadata": {},
   "outputs": [
    {
     "name": "stdout",
     "output_type": "stream",
     "text": [
      "id embedding的均值:1.4033988901376724\n",
      "genre embedding的方差:2.847631395459175\n"
     ]
    }
   ],
   "source": [
    "emb_norm = [get_embed_norm(SASRec_tag_model, pair[0], genre_dict) for pair in same_tag_pairs]\n",
    "print(\"id embedding的均值:{}\".format(np.mean([norm[0].item() for norm in emb_norm])))\n",
    "print(\"genre embedding的均值:{}\".format(np.mean([norm[1].item() for norm in emb_norm])))"
   ]
  },
  {
   "cell_type": "code",
   "execution_count": 74,
   "id": "7afc5de9",
   "metadata": {},
   "outputs": [],
   "source": [
    "# 接下来实验猜想2：改进后用户应该对历史高频tag的item更感兴趣\n",
    "# 先根据历史记录进行分组\n",
    "from collections import defaultdict\n",
    "user_histories = user_train\n",
    "tag_distribution = defaultdict(lambda: defaultdict(int))  # user_id -> {tag: count}\n",
    "\n",
    "for user_id, items in user_histories.items():\n",
    "    for item in items:\n",
    "        tags = genre_dict[item]  # 当前电影的tag多热编码\n",
    "        for tag_idx in tags.nonzero()[0]:\n",
    "            tag_distribution[user_id][tag_idx] += 1\n",
    "\n",
    "# 计算每个用户的类型占比\n",
    "user_dominant_tags = {}\n",
    "threshold = 0.3  # 高频类型阈值\n",
    "for user_id, tags in tag_distribution.items():\n",
    "    total = sum(tags.values())\n",
    "    dominant_tags = [tag for tag, cnt in tags.items() if cnt / total >= threshold]\n",
    "    if len(dominant_tags) > 0:\n",
    "        user_dominant_tags[user_id] = dominant_tags\n"
   ]
  },
  {
   "cell_type": "code",
   "execution_count": 108,
   "id": "734aeac1",
   "metadata": {},
   "outputs": [],
   "source": [
    "# 为上面的用户生成推荐列表\n",
    "SASRec_tag_model.to(SASRec_tag_model.device)\n",
    "SASRec_model.to(SASRec_model.device)\n",
    "recom_result = {}\n",
    "maxlen = 200\n",
    "for u in user_dominant_tags.keys():\n",
    "    SASRec_tag_model.eval()\n",
    "    SASRec_model.eval()\n",
    "    # 构造输入序列\n",
    "    seq = np.zeros((1, maxlen), dtype=np.int32)\n",
    "    idx = maxlen - 1  # 从序列的末尾开始填充\n",
    "    for i in reversed(range(len(user_train[u]))):\n",
    "        seq[0][idx] = user_train[u][i]\n",
    "        idx -= 1\n",
    "        if idx == -1:\n",
    "            break  # 如果序列已经满了，就不再填充\n",
    "    \n",
    "    # 构建物品候选\n",
    "    rated = set(user_train[u])\n",
    "    rated.add(0)  # 0是填充项，需要加入候选集\n",
    "    item_idx = [user_valid[u][0]]\n",
    "    for _ in range(100):\n",
    "        t = np.random.randint(1, item_num + 1)  # 这里numpy和random的生成不一样，numpy是左闭右开的，random是左闭右闭的\n",
    "        while t in rated:\n",
    "            t = np.random.randint(1, item_num + 1)        \n",
    "        item_idx.append(t)  # 这里是将还未交互的物品加入候选集\n",
    "        \n",
    "    predicitons_old = -SASRec_model.predict((seq), (item_idx))\n",
    "    \n",
    "    seq_genres = np.array([genre_dict.get(i, np.zeros_like(genre_dict[1])) for i in seq[0]])\n",
    "    item_genres = np.array([genre_dict.get(i, np.zeros_like(genre_dict[1])) for i in item_idx])\n",
    "    seq = list(zip(seq, seq_genres))\n",
    "    item_idx = list(zip(item_idx, item_genres))\n",
    "    predictions_new = -SASRec_tag_model.predict((seq), (item_idx))\n",
    "    \n",
    "    topk = 10\n",
    "\n",
    "    # 获取原始模型的 topk 物品索引\n",
    "    topk_indices_old = predicitons_old.argsort()[0][:topk].cpu().numpy().astype(int)\n",
    "    topk_items_old = [item_idx[i] if isinstance(item_idx[i], int) else item_idx[i][0] for i in topk_indices_old]\n",
    "\n",
    "    # 获取改进模型的 topk 物品索引\n",
    "    topk_indices_new = predictions_new.argsort()[0][:topk].cpu().numpy().astype(int)\n",
    "    topk_items_new = [item_idx[i] if isinstance(item_idx[i], int) else item_idx[i][0] for i in topk_indices_new]\n",
    "\n",
    "    # 将结果存入 recom_result 字典\n",
    "    recom_result[u] = {\n",
    "        \"改进模型\": topk_items_new,\n",
    "        \"原始模型\": topk_items_old\n",
    "    }"
   ]
  },
  {
   "cell_type": "code",
   "execution_count": 109,
   "id": "ff2f3bce",
   "metadata": {},
   "outputs": [],
   "source": [
    "def get_recommendation_tag_distribution(recommended_items):\n",
    "    tag_counts = defaultdict(int)\n",
    "    for item in recommended_items:\n",
    "        tags = genre_dict[item]\n",
    "        for tag_idx in tags.nonzero()[0]:\n",
    "            tag_counts[tag_idx] += 1\n",
    "    total = sum(tag_counts.values())\n",
    "    return {tag: cnt / total for tag, cnt in tag_counts.items()}\n",
    "\n",
    "# 对每个用户的推荐结果计算类型分布\n",
    "model_comparison = {}\n",
    "for user_id in user_dominant_tags:\n",
    "    # 假设rec_new和rec_old是该用户两个模型的推荐列表\n",
    "    dist_new = get_recommendation_tag_distribution(recom_result[user_id][\"改进模型\"])\n",
    "    dist_old = get_recommendation_tag_distribution(recom_result[user_id][\"原始模型\"])\n",
    "    model_comparison[user_id] = {\"改进模型\": dist_new, \"原始模型\": dist_old}"
   ]
  },
  {
   "cell_type": "code",
   "execution_count": 110,
   "id": "e46f354f",
   "metadata": {},
   "outputs": [
    {
     "name": "stdout",
     "output_type": "stream",
     "text": [
      "改进模型的平均WDTRG: 0.22721139347790165\n",
      "原始模型的平均WDTRG: 0.31986949969561645\n"
     ]
    }
   ],
   "source": [
    "# 计算WDTRG\n",
    "def calculate_wdtrg(user_id, model_name, recommendation_results, user_dominant_tag):\n",
    "    dominant_tag = user_dominant_tag[user_id][0]  # 可能有多个，就直接取第一个\n",
    "    tag_dist = recommendation_results[user_id][model_name]\n",
    "    return tag_dist.get(dominant_tag, 0.0)  # 若高频类型未出现则为0\n",
    "\n",
    "# 计算所有用户的WDTRG均值\n",
    "wdtrg_new = [\n",
    "    calculate_wdtrg(user_id, \"改进模型\", model_comparison, user_dominant_tags)\n",
    "    for user_id in user_dominant_tags\n",
    "]\n",
    "wdtrg_old = [\n",
    "    calculate_wdtrg(user_id, \"原始模型\", model_comparison, user_dominant_tags)\n",
    "    for user_id in user_dominant_tags\n",
    "]\n",
    "\n",
    "mean_wdtrg_new = np.mean(wdtrg_new)\n",
    "mean_wdtrg_old = np.mean(wdtrg_old)\n",
    "print(f\"改进模型的平均WDTRG: {mean_wdtrg_new}\")\n",
    "print(f\"原始模型的平均WDTRG: {mean_wdtrg_old}\")"
   ]
  },
  {
   "cell_type": "code",
   "execution_count": 111,
   "id": "35fe75c9",
   "metadata": {},
   "outputs": [
    {
     "name": "stdout",
     "output_type": "stream",
     "text": [
      "改进模型平均DTHR: 0.4412\n",
      "原始模型平均DTHR: 0.6046\n"
     ]
    }
   ],
   "source": [
    "def calculate_dthr(recommended_items, user_dominant_tags):\n",
    "    hit = 0\n",
    "    for item in recommended_items:\n",
    "        item_tags = genre_dict[item]\n",
    "        # 检查是否有至少一个高频tag\n",
    "        for tag in user_dominant_tags:\n",
    "            if item_tags[tag] == 1:\n",
    "                hit += 1\n",
    "                break  # 避免重复计数\n",
    "    return hit / len(recommended_items)\n",
    "\n",
    "# 计算所有实验用户的平均DTHR\n",
    "dthr_new = []\n",
    "dthr_old = []\n",
    "for user_id, data in recom_result.items():\n",
    "    rec_new = data[\"改进模型\"]\n",
    "    rec_old = data[\"原始模型\"]\n",
    "    dominant_tags = user_dominant_tags[user_id]\n",
    "    dthr_new.append(calculate_dthr(rec_new, dominant_tags))\n",
    "    dthr_old.append(calculate_dthr(rec_old, dominant_tags))\n",
    "\n",
    "print(f\"改进模型平均DTHR: {np.mean(dthr_new):.4f}\")\n",
    "print(f\"原始模型平均DTHR: {np.mean(dthr_old):.4f}\")"
   ]
  },
  {
   "cell_type": "markdown",
   "id": "d2d702bc",
   "metadata": {},
   "source": [
    "发现性能反而变得更差了，但是这个原因就暂时还没想明白"
   ]
  }
 ],
 "metadata": {
  "kernelspec": {
   "display_name": "pytorch",
   "language": "python",
   "name": "python3"
  },
  "language_info": {
   "codemirror_mode": {
    "name": "ipython",
    "version": 3
   },
   "file_extension": ".py",
   "mimetype": "text/x-python",
   "name": "python",
   "nbconvert_exporter": "python",
   "pygments_lexer": "ipython3",
   "version": "3.11.9"
  }
 },
 "nbformat": 4,
 "nbformat_minor": 5
}
